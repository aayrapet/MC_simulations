{
 "cells": [
  {
   "cell_type": "code",
   "execution_count": 2,
   "metadata": {},
   "outputs": [],
   "source": [
    "import numpy as np\n",
    "import matplotlib.pyplot as plt\n"
   ]
  },
  {
   "cell_type": "markdown",
   "metadata": {},
   "source": [
    "# **Antithetic variables**"
   ]
  },
  {
   "cell_type": "markdown",
   "metadata": {},
   "source": [
    "\n",
    "**Monte Carlo Estimator:**\n",
    "\n",
    "The estimator for the expectation \n",
    "$$\n",
    "I = \\mathbb{E}[f(X)] = \\int_{x} f(x) p(x) \\,dx\n",
    "$$ \n",
    "using  N  i.i.d. samples is given by:\n",
    "$$\n",
    "\\hat{I}_{MC} = \\frac{1}{N} \\sum_{i=1}^{N} f(X_i)\n",
    "$$\n",
    "with variance\n",
    "$$\n",
    "\\text{Var}(\\hat{I}_{MC}) = \\frac{\\text{Var}(f(X))}{N}\n",
    "$$\n",
    "\n",
    "\n",
    "**Antithetic Variate Estimator:**\n",
    "\n",
    "Using antithetic variates, we form pairs \\((X_i, X'_i)\\) and define the estimator as:\n",
    "\n",
    "$$\n",
    "\\hat{I}_{AV} = \\frac{1}{2N} \\sum_{i=1}^{N} \\left( f(X_i) + f(X'_i) \\right)=\\hat{I}_{MC}.\n",
    "$$\n",
    "\n",
    "Its variance is given by:\n",
    "\n",
    "$$\n",
    "\\text{Var}(\\hat{I}_{AV}) = \\frac{1}{4N}\\text{Var}\\Bigl( f(X) + f(X') \\Bigr) = \\frac{1}{2N} \\left[ \\text{Var}(f(X)) + \\text{Cov}(f(X), f(X')) \\right]< \\frac{1}{2N} \\text{Var}(f(X)) < \\frac{1}{N} \\text{Var}(f(X))=\\text{Var}(\\hat{I}_{MC}) .\n",
    "$$\n",
    "\n",
    "If **covariance** is negative so that $X$ and $X'$ are negatively correlated. We can use inversion to create $X'$ from $X$\n"
   ]
  },
  {
   "cell_type": "markdown",
   "metadata": {},
   "source": [
    "## **Example 1:**\n",
    "\n",
    "$$I = E\\left[e^X\\right]$$\n",
    "\n",
    "\n",
    "$$\n",
    "X_1, X_2, \\dots, X_n \\sim \\text{Uniform}(0,1) \\quad \\text{i.i.d.}\n",
    "$$"
   ]
  },
  {
   "cell_type": "code",
   "execution_count": 12,
   "metadata": {},
   "outputs": [
    {
     "name": "stdout",
     "output_type": "stream",
     "text": [
      "#expectation estimation  1.734351270781523\n",
      "#variance naive  0.00024256798799387753\n",
      "#variance AV  3.900990751005053e-06\n"
     ]
    }
   ],
   "source": [
    "def f(x):\n",
    "    return np.exp(x)\n",
    "N=10**3\n",
    "X = np.random.uniform(0, 1, N)\n",
    "#inversion and set increasing on x or decreasing on x \n",
    "X_prime=1-X\n",
    "\n",
    "\n",
    "print(\"#expectation estimation \",np.mean(f(X)))\n",
    "print(\"#variance naive \",np.var(f(X))/N)\n",
    "print(\"#variance AV \",np.var(f(X)+f(X_prime))/(4*N))\n",
    "#  "
   ]
  },
  {
   "cell_type": "markdown",
   "metadata": {},
   "source": [
    "## **Example 2:**\n",
    "\n",
    "\n",
    "\n",
    "$$I = E\\left[e^X\\right]$$\n",
    "\n",
    "\n",
    "$$\n",
    "X_1, X_2, \\dots, X_n \\sim \\text{N}(0,1) \\quad \\text{i.i.d.}\n",
    "$$"
   ]
  },
  {
   "cell_type": "code",
   "execution_count": 53,
   "metadata": {},
   "outputs": [
    {
     "name": "stdout",
     "output_type": "stream",
     "text": [
      "#expectation estimation  1.627964370774247\n",
      "#variance naive  0.0043145590008988235\n",
      "#variance AV  0.0014024509613161735\n"
     ]
    }
   ],
   "source": [
    "def f(x):\n",
    "    return np.exp((x))\n",
    "N=10**3\n",
    "U = np.random.uniform(0, 1, 10000)\n",
    "V = np.random.uniform(0, 1, 10000)\n",
    "\n",
    "# Apply Box-Muller Transform\n",
    "X = np.sqrt(-2 * np.log(U)) * np.cos(2 * np.pi * V)\n",
    "X_prime=-X\n",
    "\n",
    "\n",
    "print(\"#expectation estimation \",np.mean(f(X)))\n",
    "print(\"#variance naive \",np.var(f(X))/N)\n",
    "print(\"#variance AV \",np.var(f(X)+f(X_prime))/(4*N))\n",
    "#  "
   ]
  },
  {
   "cell_type": "markdown",
   "metadata": {},
   "source": [
    "## **Example 3:**\n",
    "\n",
    "\n",
    "\n",
    "$$I = E\\left[e^X\\right]$$\n",
    "\n",
    "\n",
    "$$\n",
    "X_1, X_2, \\dots, X_n \\sim \\text{Exp}(\\lambda) \\quad \\text{i.i.d.}\n",
    "$$"
   ]
  },
  {
   "cell_type": "code",
   "execution_count": 64,
   "metadata": {},
   "outputs": [
    {
     "name": "stdout",
     "output_type": "stream",
     "text": [
      "#expectation estimation  2.0012137656279188\n",
      "#variance naive  0.007272659524214782\n",
      "#variance AV  0.003436475718600683\n"
     ]
    }
   ],
   "source": [
    "def f(x):\n",
    "    return np.exp((x))\n",
    "N=10**3\n",
    "lambda_val = 2  # Rate parameter for Exponential(λ)\n",
    "# Generate uniform random numbers\n",
    "U = np.random.uniform(0, 1, 10000)\n",
    "# Apply inverse transformation\n",
    "X = -np.log( U) / lambda_val\n",
    "X_prime = -np.log(1- U) / lambda_val\n",
    "\n",
    "print(\"#expectation estimation \",np.mean(f(X)))\n",
    "print(\"#variance naive \",np.var(f(X))/N)\n",
    "print(\"#variance AV \",np.var(f(X)+f(X_prime))/(4*N))\n",
    " "
   ]
  },
  {
   "cell_type": "markdown",
   "metadata": {},
   "source": [
    "## **Use case 1:  Option Pricing in Finance**\n",
    "\n",
    "price of a call option in the Black-Scholes model with maturity T and strike K.\n",
    "\n",
    "$$\n",
    "\\psi(X) = e^{-rT} \\left(\\lambda \\, e^{\\sigma \\sqrt{T}\\, X} - K \\right)_+\n",
    "$$\n",
    "\n",
    "where\n",
    "\n",
    "$$\n",
    "\\lambda = S_0 \\, e^{\\bigl(r - \\tfrac{\\sigma^2}{2}\\bigr) T}.\n",
    "$$\n",
    "\n",
    "\n",
    "\n",
    "$$\n",
    "X_1, X_2, \\dots, X_n \\sim \\text{N}(0,1) \\quad \\text{i.i.d.}\n",
    "$$\n",
    "\n",
    "$$\n",
    "\\mathbb{E}\\bigl(\\psi(X)\\bigr).\n",
    "$$\n"
   ]
  },
  {
   "cell_type": "code",
   "execution_count": null,
   "metadata": {},
   "outputs": [
    {
     "name": "stdout",
     "output_type": "stream",
     "text": [
      "#expectation estimation  4.910072211501452\n",
      "#variance naive  0.41053048722776797\n",
      "#variance AV  0.007866796389109153\n",
      "95% Confidence Interval NAIVE: 3.6542482111995813 6.165896211803323\n",
      "95% Confidence Interval AV: 4.736230084822095 5.08391433818081\n"
     ]
    }
   ],
   "source": [
    "def _f(S0,X,r,T,sigma,K):\n",
    "    lamda=S0*np.exp((r-0.5*sigma**2)*T)\n",
    "    return np.exp(-r*T)*np.max(lamda*np.exp(sigma*np.sqrt(T)*X)-K,0)\n",
    "f = np.vectorize(_f, otypes=[float])#or use np.maximum()\n",
    "\n",
    "# Parameters\n",
    "S0 = 100   # Initial stock price\n",
    "K = 100    # Strike price\n",
    "r = 0.05   # Risk-free rate\n",
    "sigma = 0.2 # Volatility\n",
    "T = 1      # Maturity (1 year)\n",
    "\n",
    "N=10**3\n",
    "U = np.random.uniform(0, 1, N)\n",
    "V = np.random.uniform(0, 1, N)\n",
    "\n",
    "# Apply Box-Muller Transform\n",
    "X = np.sqrt(-2 * np.log(U)) * np.cos(2 * np.pi * V)\n",
    "X_prime=-X\n",
    "\n",
    "estimator=np.mean(f(S0,X,r,T,sigma,K))\n",
    "var_naive=np.var(f(S0,X,r,T,sigma,K))/N\n",
    "var_AV=np.var(f(S0,X,r,T,sigma,K)+f(S0,X_prime,r,T,sigma,K))/(4*N)\n",
    "print(\"#expectation estimation \",estimator)\n",
    "print(\"#variance naive \",var_naive)\n",
    "print(\"#variance AV \",var_AV)\n",
    " \n",
    "\n",
    "# 95% Confidence Interval\n",
    "lower_bound_naive,upper_bound_naive = estimator - 1.96 * np.sqrt(var_naive),estimator + 1.96 * np.sqrt(var_naive)\n",
    "lower_bound_AV,upper_bound_AV = estimator - 1.96 * np.sqrt(var_AV),estimator + 1.96 * np.sqrt(var_AV)\n",
    "\n",
    "print(\"95% Confidence Interval NAIVE:\", lower_bound_naive, upper_bound_naive)\n",
    "print(\"95% Confidence Interval AV:\", lower_bound_AV, upper_bound_AV)"
   ]
  }
 ],
 "metadata": {
  "kernelspec": {
   "display_name": "base",
   "language": "python",
   "name": "python3"
  },
  "language_info": {
   "codemirror_mode": {
    "name": "ipython",
    "version": 3
   },
   "file_extension": ".py",
   "mimetype": "text/x-python",
   "name": "python",
   "nbconvert_exporter": "python",
   "pygments_lexer": "ipython3",
   "version": "3.12.7"
  }
 },
 "nbformat": 4,
 "nbformat_minor": 2
}
